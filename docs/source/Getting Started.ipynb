{
 "cells": [
  {
   "cell_type": "markdown",
   "metadata": {},
   "source": [
    "# Getting Started with Hyperkite\n",
    "\n",
    "In this short Getting Started tutorial we will show how to find optimal hyperparameter values with Hyperkite.\n",
    "\n",
    "This tutorial is part of the original [Hyperkite Documentation](https://hyperkite.ai/docs/getting-started/)."
   ]
  },
  {
   "cell_type": "markdown",
   "metadata": {},
   "source": [
    "## Installation\n",
    "\n",
    "First, install the Hyperkite package by running the following command in your terminal:"
   ]
  },
  {
   "cell_type": "code",
   "execution_count": null,
   "metadata": {},
   "outputs": [],
   "source": [
    "pip install hyperkite"
   ]
  },
  {
   "cell_type": "markdown",
   "metadata": {
    "scrolled": false
   },
   "source": [
    "## Black box function\n",
    "\n",
    "In a typical Machine Learning scenario, we aim to find the optimal hyperparameter values of a model that returns the lowest loss on a validation set. To avoid having to train and validate an entire model on every iteration, we will show how to find the optimal parameters of the following dummy function:\n",
    "\n",
    "<img src=\"https://raw.githubusercontent.com/hyperkite/hyperkite/master/docs/source/_static/black-box-function.png\" width=\"50%\"></img>\n",
    "\n",
    "The function take two parameters as input (`param_a` and `param_b`) and has the optimal point in location `param_a = 1` and `param_b = 1.5`. Let's see if we can find these optimal parameters using Hyperkite."
   ]
  },
  {
   "cell_type": "code",
   "execution_count": 2,
   "metadata": {},
   "outputs": [],
   "source": [
    "def black_box_function(param_a, param_b):\n",
    "    \"\"\" Function we will try to minimize. \"\"\"\n",
    "    if param_a == 0:\n",
    "        return 0.2 * param_b ** 2 - param_b + 2\n",
    "    elif param_a == 1:\n",
    "        return param_b ** 2 - 3 * param_b \n",
    "    elif param_a == 2:\n",
    "        return 2 * param_b ** 2 + 2 * param_b "
   ]
  },
  {
   "cell_type": "markdown",
   "metadata": {},
   "source": [
    "## Define the hyperparameter space\n",
    "\n",
    "\n",
    "Sign in to [Hyperkite](https://hyperkite.ai/), and press the 'Create Study' button.\n",
    "\n",
    "<img src=\"https://raw.githubusercontent.com/hyperkite/hyperkite/master/docs/source/_static/screenshot_a.png\" width=\"50%\"></img>\n",
    "\n",
    "In the Study creation screen we can name our study `getting_started_tutorial` and create two hyperparmeters:\n",
    "\n",
    "- A `Categorical` parameter named `param_a` with number of categories set to `3`.\n",
    "- A `Uniform Range` parameter named `param_b` between `-10` and `10`.\n",
    "\n",
    "Your screen should look like this:\n",
    "\n",
    "<img src=\"https://raw.githubusercontent.com/hyperkite/hyperkite/master/docs/source/_static/screenshot_b.png\" width=\"50%\"></img>\n",
    "\n",
    "After defining the hyperparameters you want to optimize in your Study, you will obtain an unique Study `key` which is all we need to access the study from our python code.\n",
    "\n",
    "<img src=\"https://raw.githubusercontent.com/hyperkite/hyperkite/master/docs/source/_static/screenshot_c.PNG\" width=\"50%\"></img>"
   ]
  },
  {
   "cell_type": "markdown",
   "metadata": {},
   "source": [
    "### Obtain study key\n",
    "\n",
    "In the top right corner, Hyperkite will give you a Study key which will be all you need to start optimizing your hyperparameters:"
   ]
  },
  {
   "cell_type": "code",
   "execution_count": 6,
   "metadata": {},
   "outputs": [],
   "source": [
    "STUDY_KEY = '5e8787902e3def02f98731d5' # Insert your study key here"
   ]
  },
  {
   "cell_type": "markdown",
   "metadata": {},
   "source": [
    "## Optimizing\n",
    "\n",
    "Now, we request a new set of hyperparameters we can create a new trial using `trial = hyperkite.new_trial(study_key)`, which contains a dictionary of all hyperparameter values in `trial.values`. After tring out these hyperparameter values we can report back the validation loss using `trial.report_loss(loss)`."
   ]
  },
  {
   "cell_type": "code",
   "execution_count": 18,
   "metadata": {},
   "outputs": [],
   "source": [
    "import hyperkite\n",
    "\n",
    "number_of_iterations = 100\n",
    "\n",
    "for i in range(number_of_iterations):\n",
    "    # Request new trial\n",
    "    trial = hyperkite.new_trial(STUDY_KEY)\n",
    "    \n",
    "    # Try out hyperparameter values\n",
    "    param_a = trial.values['param_a']\n",
    "    param_b = trial.values['param_b']\n",
    "    \n",
    "    loss = black_box_function(param_a=param_a, param_b=param_b)\n",
    "    \n",
    "    # Report back loss\n",
    "    trial.report_loss(loss)"
   ]
  },
  {
   "cell_type": "markdown",
   "metadata": {},
   "source": [
    "## View optimal values\n",
    "\n",
    "The optimal hyperparameter values can be viewed in the online interface, or requested directly using `hyperkite.get_best_values(study_key)` function:\n"
   ]
  },
  {
   "cell_type": "code",
   "execution_count": 19,
   "metadata": {},
   "outputs": [
    {
     "data": {
      "text/plain": [
       "{'param_a': 1, 'param_b': 1.5092954608845162}"
      ]
     },
     "execution_count": 19,
     "metadata": {},
     "output_type": "execute_result"
    }
   ],
   "source": [
    "hyperkite.get_best_values(STUDY_KEY)"
   ]
  },
  {
   "cell_type": "markdown",
   "metadata": {},
   "source": [
    "Sweet! As we can see, we were able to find hyperparameter values very close to our optimal point."
   ]
  },
  {
   "cell_type": "markdown",
   "metadata": {},
   "source": [
    "## What's next?\n",
    "\n",
    "Now that you have learned how to tune hyperparameters with Hyperkite you can start applying this skill on more complex machine learning models. Try training more advanced deep learning models using [TensorFlow](https://www.tensorflow.org/tutorials) and [PyTorch](https://pytorch.org/tutorials/) and find optimal values for the learning rate, number of layers, type of activation function using [Hyperkite](https://hyperkite.ai)."
   ]
  }
 ],
 "metadata": {
  "kernelspec": {
   "display_name": "Python 3",
   "language": "python",
   "name": "python3"
  },
  "language_info": {
   "codemirror_mode": {
    "name": "ipython",
    "version": 3
   },
   "file_extension": ".py",
   "mimetype": "text/x-python",
   "name": "python",
   "nbconvert_exporter": "python",
   "pygments_lexer": "ipython3",
   "version": "3.7.3"
  }
 },
 "nbformat": 4,
 "nbformat_minor": 2
}
