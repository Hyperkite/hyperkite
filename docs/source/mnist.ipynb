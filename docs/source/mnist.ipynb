{
 "cells": [
  {
   "cell_type": "markdown",
   "metadata": {},
   "source": [
    "# Getting Started with Hyperkite\n",
    "\n",
    "This short introduction uses Hyperkite to:\n",
    "\n",
    "1. Build a neural network that classifies handwritten images (MNIST).\n",
    "\n",
    "2. Optimize the hyperparameters of the model using pytorch\n",
    "\n",
    "This tutorial is part of the original [Hyperkite Documentation](https://hyperkite.ai/docs/getting-started/)."
   ]
  },
  {
   "cell_type": "markdown",
   "metadata": {},
   "source": [
    "# Install\n",
    "\n",
    "Install the Hyperkite package by running the following command in your terminal:"
   ]
  },
  {
   "cell_type": "markdown",
   "metadata": {},
   "source": [
    "pip install hyperkite"
   ]
  },
  {
   "cell_type": "markdown",
   "metadata": {},
   "source": [
    "For installation instructions for other packages, visit the [PyTorch](https://pytorch.org/) website."
   ]
  },
  {
   "cell_type": "code",
   "execution_count": 118,
   "metadata": {},
   "outputs": [
    {
     "data": {
      "text/plain": [
       "<torch._C.Generator at 0x7f82384b4cf0>"
      ]
     },
     "execution_count": 118,
     "metadata": {},
     "output_type": "execute_result"
    }
   ],
   "source": [
    "import numpy as np\n",
    "import torch\n",
    "import torch.nn as nn\n",
    "import torch.nn.functional as F\n",
    "import torch.utils.data.dataloader as dataloader\n",
    "import torch.optim as optim\n",
    "\n",
    "from torch.utils.data import TensorDataset\n",
    "from torch.autograd import Variable\n",
    "from torchvision import transforms\n",
    "from torchvision.datasets import MNIST\n",
    "\n",
    "SEED = 1\n",
    "\n",
    "cuda = torch.cuda.is_available()\n",
    "\n",
    "if cuda:\n",
    "    torch.cuda.manual_seed(SEED)\n",
    "torch.manual_seed(SEED)"
   ]
  },
  {
   "cell_type": "markdown",
   "metadata": {},
   "source": [
    "# Loading Data\n",
    "We obtain a collection of handwritten digits by loading the [Digit Dataset](https://scikit-learn.org/stable/auto_examples/datasets/plot_digits_last_image.html) from sklearn:"
   ]
  },
  {
   "cell_type": "code",
   "execution_count": 119,
   "metadata": {},
   "outputs": [
    {
     "name": "stdout",
     "output_type": "stream",
     "text": [
      "Training set    (55000 images)\n",
      "Validation set  (5000 images)\n",
      "Test set        (10000 images)\n"
     ]
    }
   ],
   "source": [
    "train = MNIST('./data', train=True, download=True, transform=transforms.Compose([\n",
    "    transforms.ToTensor(), # ToTensor does min-max normalization. \n",
    "]), )\n",
    "valid = MNIST('./data', train=True, download=True, transform=transforms.Compose([\n",
    "    transforms.ToTensor(), # ToTensor does min-max normalization. \n",
    "]), )\n",
    "\n",
    "train_valid_split = 55000\n",
    "train.data = train.data[:train_valid_split]\n",
    "valid.data = valid.data[train_valid_split:]\n",
    "\n",
    "test = MNIST('./data', train=False, download=True, transform=transforms.Compose([\n",
    "    transforms.ToTensor(), # ToTensor does min-max normalization. \n",
    "]), )\n",
    "\n",
    "# Create DataLoader\n",
    "dataloader_args = dict(shuffle=True, batch_size=64)\n",
    "train_loader = dataloader.DataLoader(train, **dataloader_args)\n",
    "valid_loader = dataloader.DataLoader(valid, **dataloader_args)\n",
    "test_loader = dataloader.DataLoader(test, **dataloader_args)\n",
    "\n",
    "print(f'Training set    ({len(train)} images)')\n",
    "print(f'Validation set  ({len(valid)} images)')\n",
    "print(f'Test set        ({len(test)} images)')"
   ]
  },
  {
   "cell_type": "markdown",
   "metadata": {},
   "source": [
    "## Model"
   ]
  },
  {
   "cell_type": "code",
   "execution_count": 120,
   "metadata": {},
   "outputs": [],
   "source": [
    "import torch.nn.functional as F\n",
    "\n",
    "\n",
    "class Net(nn.Module):\n",
    "    def __init__(self):\n",
    "        super(Net, self).__init__()\n",
    "        self.conv1 = nn.Conv2d(1, 6, 5)\n",
    "        self.pool = nn.MaxPool2d(2, 2)\n",
    "        self.conv2 = nn.Conv2d(6, 16, 5)\n",
    "        self.fc1 = nn.Linear(16 * 4 * 4, 120)\n",
    "        self.fc2 = nn.Linear(120, 84)\n",
    "        self.fc3 = nn.Linear(84, 10)\n",
    "\n",
    "    def forward(self, x):\n",
    "        x = self.pool(F.relu(self.conv1(x)))\n",
    "        x = self.pool(F.relu(self.conv2(x)))\n",
    "        x = x.view(-1, 16 * 4 * 4)\n",
    "        x = F.relu(self.fc1(x))\n",
    "        x = F.relu(self.fc2(x))\n",
    "        x = self.fc3(x)\n",
    "        return x\n",
    "\n",
    "\n",
    "net = Net()"
   ]
  },
  {
   "cell_type": "code",
   "execution_count": 121,
   "metadata": {},
   "outputs": [],
   "source": [
    "import torch.optim as optim\n",
    "\n",
    "criterion = nn.CrossEntropyLoss()\n",
    "optimizer = optim.SGD(net.parameters(), lr=0.001, momentum=0.9)"
   ]
  },
  {
   "cell_type": "markdown",
   "metadata": {},
   "source": [
    "## Train\n",
    "\n",
    "Training time:\n",
    "\n",
    "- CPU, about 1 minute and 30 seconds\n",
    "- GPU, about 10 seconds"
   ]
  },
  {
   "cell_type": "code",
   "execution_count": 83,
   "metadata": {},
   "outputs": [
    {
     "name": "stdout",
     "output_type": "stream",
     "text": [
      "Epoch 1, Iter 1, Loss: 0.13424350321292877\n",
      "Epoch 1, Iter 21, Loss: 3.043186515569687\n",
      "Epoch 1, Iter 41, Loss: 2.970725256949663\n",
      "Epoch 1, Iter 61, Loss: 2.6603646464645863\n",
      "Epoch 1, Iter 81, Loss: 2.693312082439661\n",
      "Epoch 1, Iter 101, Loss: 3.2401433773338795\n",
      "Epoch 1, Iter 121, Loss: 3.199323885142803\n",
      "Epoch 1, Iter 141, Loss: 3.13962459936738\n",
      "Epoch 1, Iter 161, Loss: 3.298606876283884\n",
      "Epoch 1, Iter 181, Loss: 2.9054590053856373\n",
      "Epoch 1, Iter 201, Loss: 3.1090864278376102\n",
      "Epoch 1, Iter 221, Loss: 3.124228548258543\n",
      "Epoch 1, Iter 241, Loss: 3.1147813349962234\n",
      "Epoch 1, Iter 261, Loss: 2.6570335626602173\n",
      "Epoch 1, Iter 281, Loss: 2.974055051803589\n",
      "Epoch 1, Iter 301, Loss: 2.9900256022810936\n",
      "Epoch 1, Iter 321, Loss: 2.08127080835402\n",
      "Epoch 1, Iter 341, Loss: 2.6153419092297554\n",
      "Epoch 1, Iter 361, Loss: 3.225513406097889\n",
      "Epoch 1, Iter 381, Loss: 2.571315586566925\n",
      "Epoch 1, Iter 401, Loss: 3.2504887506365776\n",
      "Epoch 1, Iter 421, Loss: 2.822856791317463\n",
      "Epoch 1, Iter 441, Loss: 2.825624216347933\n",
      "Epoch 1, Iter 461, Loss: 2.8781885132193565\n",
      "Epoch 1, Iter 481, Loss: 2.8049902878701687\n",
      "Epoch 1, Iter 501, Loss: 2.447981707751751\n",
      "Epoch 1, Iter 521, Loss: 2.428058188408613\n",
      "Epoch 1, Iter 541, Loss: 2.966485910117626\n",
      "Epoch 1, Iter 561, Loss: 2.4954682625830173\n",
      "Epoch 1, Iter 581, Loss: 3.205656312406063\n",
      "Epoch 1, Iter 601, Loss: 2.82014949247241\n",
      "Epoch 1, Iter 621, Loss: 2.3391485437750816\n",
      "Epoch 1, Iter 641, Loss: 3.2765590846538544\n",
      "Epoch 1, Iter 661, Loss: 3.1018835194408894\n",
      "Epoch 1, Iter 681, Loss: 2.902176445350051\n",
      "Epoch 1, Iter 701, Loss: 2.26524705812335\n",
      "Epoch 1, Iter 721, Loss: 2.434796780347824\n",
      "Epoch 1, Iter 741, Loss: 2.5063725747168064\n",
      "Epoch 1, Iter 761, Loss: 2.2680902890861034\n",
      "Epoch 1, Iter 781, Loss: 2.6546688936650753\n",
      "Epoch 1, Iter 801, Loss: 2.3854108471423388\n",
      "Epoch 1, Iter 821, Loss: 2.896256662905216\n",
      "Epoch 1, Iter 841, Loss: 2.700689896941185\n",
      "Epoch 2, Iter 1, Loss: 0.06508548557758331\n",
      "Epoch 2, Iter 21, Loss: 1.882172603160143\n",
      "Epoch 2, Iter 41, Loss: 2.80667950771749\n",
      "Epoch 2, Iter 61, Loss: 2.8171311020851135\n",
      "Epoch 2, Iter 81, Loss: 2.6592767778784037\n",
      "Epoch 2, Iter 101, Loss: 2.941769402474165\n",
      "Epoch 2, Iter 121, Loss: 2.8327472135424614\n",
      "Epoch 2, Iter 141, Loss: 2.5799828059971333\n",
      "Epoch 2, Iter 161, Loss: 2.6387572772800922\n",
      "Epoch 2, Iter 181, Loss: 2.009794408455491\n",
      "Epoch 2, Iter 201, Loss: 2.2070022895932198\n",
      "Epoch 2, Iter 221, Loss: 2.12526036426425\n",
      "Epoch 2, Iter 241, Loss: 2.342262240126729\n",
      "Epoch 2, Iter 261, Loss: 2.6637204624712467\n",
      "Epoch 2, Iter 281, Loss: 2.1387447034940124\n",
      "Epoch 2, Iter 301, Loss: 2.1726011894643307\n",
      "Epoch 2, Iter 321, Loss: 2.4012689106166363\n",
      "Epoch 2, Iter 341, Loss: 2.2615281008183956\n",
      "Epoch 2, Iter 361, Loss: 2.532679719850421\n",
      "Epoch 2, Iter 381, Loss: 2.552655216306448\n",
      "Epoch 2, Iter 401, Loss: 2.4182011373341084\n",
      "Epoch 2, Iter 421, Loss: 1.9516838770359755\n",
      "Epoch 2, Iter 441, Loss: 2.7209282256662846\n",
      "Epoch 2, Iter 461, Loss: 1.8172252178192139\n",
      "Epoch 2, Iter 481, Loss: 2.188418969511986\n",
      "Epoch 2, Iter 501, Loss: 2.289722066372633\n",
      "Epoch 2, Iter 521, Loss: 1.7951735444366932\n",
      "Epoch 2, Iter 541, Loss: 2.2639328837394714\n",
      "Epoch 2, Iter 561, Loss: 1.6161336973309517\n",
      "Epoch 2, Iter 581, Loss: 2.4664217345416546\n",
      "Epoch 2, Iter 601, Loss: 2.4380103647708893\n",
      "Epoch 2, Iter 621, Loss: 2.3122675083577633\n",
      "Epoch 2, Iter 641, Loss: 2.516471341252327\n",
      "Epoch 2, Iter 661, Loss: 1.9274665210396051\n",
      "Epoch 2, Iter 681, Loss: 2.7693557254970074\n",
      "Epoch 2, Iter 701, Loss: 1.7737290700897574\n",
      "Epoch 2, Iter 721, Loss: 2.146606482565403\n",
      "Epoch 2, Iter 741, Loss: 2.202892355620861\n",
      "Epoch 2, Iter 761, Loss: 2.9264708887785673\n",
      "Epoch 2, Iter 781, Loss: 3.236739158630371\n",
      "Epoch 2, Iter 801, Loss: 2.2292975671589375\n",
      "Epoch 2, Iter 821, Loss: 2.4431530609726906\n",
      "Epoch 2, Iter 841, Loss: 1.627177668735385\n",
      "Finished Training\n"
     ]
    }
   ],
   "source": [
    "for epoch in range(2): # Loop over the dataset 2 times\n",
    "\n",
    "    running_loss = 0.0\n",
    "    for i, (inputs, labels) in enumerate(train_loader):\n",
    "        # Zero the parameter gradients\n",
    "        optimizer.zero_grad()\n",
    "\n",
    "        # Forward + backward + optimize\n",
    "        outputs = net(inputs)\n",
    "        loss = criterion(outputs, labels)\n",
    "        loss.backward()\n",
    "        optimizer.step()\n",
    "\n",
    "        # Print statistics\n",
    "        running_loss += loss.item()\n",
    "        if i % 20 == 0:\n",
    "            print(f'Epoch {epoch+1}, Iter {i+1}, Loss: {running_loss}')\n",
    "            running_loss = 0.0\n",
    "\n",
    "print('Finished Training')"
   ]
  },
  {
   "cell_type": "code",
   "execution_count": 84,
   "metadata": {},
   "outputs": [
    {
     "data": {
      "text/plain": [
       "[<matplotlib.lines.Line2D at 0x7f82345b07f0>]"
      ]
     },
     "execution_count": 84,
     "metadata": {},
     "output_type": "execute_result"
    },
    {
     "data": {
      "image/png": "[encoded data removed]",
      "text/plain": [
       "<Figure size 432x288 with 1 Axes>"
      ]
     },
     "metadata": {
      "needs_background": "light"
     },
     "output_type": "display_data"
    }
   ],
   "source": [
    "plot(losses)"
   ]
  },
  {
   "cell_type": "markdown",
   "metadata": {},
   "source": [
    "## Evaluate"
   ]
  },
  {
   "cell_type": "code",
   "execution_count": 85,
   "metadata": {},
   "outputs": [
    {
     "name": "stdout",
     "output_type": "stream",
     "text": [
      "Accuracy without Hyperkite: 0\n",
      "Accuracy with Hyperkite: 0\n"
     ]
    },
    {
     "name": "stderr",
     "output_type": "stream",
     "text": [
      "/home/tycho/anaconda3/lib/python3.7/site-packages/ipykernel_launcher.py:12: UserWarning: Implicit dimension choice for log_softmax has been deprecated. Change the call to include dim=X as an argument.\n",
      "  if sys.path[0] == '':\n"
     ]
    }
   ],
   "source": [
    "test_x = Variable(test_loader.dataset.test_data.type_as(torch.FloatTensor()))\n",
    "test_y = Variable(test_loader.dataset.test_labels)\n",
    "if cuda:\n",
    "    test_x, test_y = test_x.cuda(), test_y.cuda()\n",
    "    \n",
    "model.eval()\n",
    "output = model(test_x)\n",
    "pred = output.data.max(1)[1]\n",
    "d = pred.eq(test_y.data).cpu()\n",
    "accuracy = d.sum() / d.size()[0]\n",
    "\n",
    "print(f'Accuracy without Hyperkite: {accuracy}')\n",
    "print(f'Accuracy with Hyperkite: {accuracy}')"
   ]
  },
  {
   "cell_type": "code",
   "execution_count": null,
   "metadata": {},
   "outputs": [],
   "source": []
  }
 ],
 "metadata": {
  "kernelspec": {
   "display_name": "Python 3",
   "language": "python",
   "name": "python3"
  },
  "language_info": {
   "codemirror_mode": {
    "name": "ipython",
    "version": 3
   },
   "file_extension": ".py",
   "mimetype": "text/x-python",
   "name": "python",
   "nbconvert_exporter": "python",
   "pygments_lexer": "ipython3",
   "version": "3.7.3"
  }
 },
 "nbformat": 4,
 "nbformat_minor": 2
}
